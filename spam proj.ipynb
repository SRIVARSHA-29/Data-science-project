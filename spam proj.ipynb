{
 "cells": [
  {
   "cell_type": "code",
   "execution_count": 1,
   "id": "355163f3",
   "metadata": {},
   "outputs": [
    {
     "name": "stderr",
     "output_type": "stream",
     "text": [
      "[nltk_data] Downloading package stopwords to\n",
      "[nltk_data]     C:\\Users\\sriva\\AppData\\Roaming\\nltk_data...\n",
      "[nltk_data]   Package stopwords is already up-to-date!\n"
     ]
    },
    {
     "name": "stdout",
     "output_type": "stream",
     "text": [
      "Accuracy: 0.9847533632286996\n",
      "Confusion Matrix:\n",
      "[[956   9]\n",
      " [  8 142]]\n",
      "Classification Report:\n",
      "              precision    recall  f1-score   support\n",
      "\n",
      "           0       0.99      0.99      0.99       965\n",
      "           1       0.94      0.95      0.94       150\n",
      "\n",
      "    accuracy                           0.98      1115\n",
      "   macro avg       0.97      0.97      0.97      1115\n",
      "weighted avg       0.98      0.98      0.98      1115\n",
      "\n"
     ]
    }
   ],
   "source": [
    "import pandas as pd\n",
    "import re\n",
    "import nltk\n",
    "from sklearn.feature_extraction.text import CountVectorizer\n",
    "from sklearn.model_selection import train_test_split\n",
    "from sklearn.naive_bayes import MultinomialNB\n",
    "from sklearn.metrics import accuracy_score, confusion_matrix, classification_report\n",
    "\n",
    "# Download NLTK resources (if not already downloaded)\n",
    "nltk.download('stopwords')\n",
    "\n",
    "from nltk.corpus import stopwords\n",
    "\n",
    "def preprocess_text(text):\n",
    "    stop_words = set(stopwords.words('english'))\n",
    "    text = re.sub(r'\\b[\\w\\-.]+?@\\w+?\\.\\w{2,4}\\b', 'emailaddr', text)\n",
    "    text = re.sub(r'(http[s]?\\S+)|(\\w+\\.[A-Za-z]{2,4}\\S*)', 'httpaddr', text)\n",
    "    text = re.sub(r'£|\\$', 'moneysymb', text)\n",
    "    text = re.sub(r'\\b(\\+\\d{1,2}\\s?)?\\d?(\\(\\d{3}\\))?[0-9.\\-]+\\d{1,9}\\b', 'phonenumbr', text)\n",
    "    text = re.sub(r'\\d+(\\.\\d+)?', 'numbr', text)\n",
    "    text = re.sub(r'\\b[\\w\\-.]+?@\\w+?\\.\\w{2,4}\\b', 'emailaddr', text)\n",
    "    text = re.sub(r'\\b(U|u)\\s?S|U\\s?S\\s?D\\s?\\S*?\\s?D\\s?ollar(s)?\\b', 'usdollar', text)\n",
    "    text = re.sub(r'\\b(£|pounds?)\\s?\\S*?\\s?(\\d+(\\.\\d+)?)?\\s?[mMkKbB]{0,1}\\b', 'ukpound', text)\n",
    "    text = re.sub(r'\\b\\d{1,2}:\\d{2}(\\s?[AaPp][Mm])?\\b', 'timeofday', text)\n",
    "    text = re.sub(r'[^a-zA-Z0-9]', ' ', text)\n",
    "    text = ' '.join([word for word in text.split() if word.lower() not in stop_words])\n",
    "    return text.lower()\n",
    "\n",
    "# Load and preprocess data\n",
    "df = pd.read_csv('spam.csv', encoding='latin1')\n",
    "processed_emails = [preprocess_text(email) for email in df['v2']]\n",
    "labels = df['v1'].map({'ham': 0, 'spam': 1})  # Mapping 'ham' to 0 and 'spam' to 1\n",
    "\n",
    "# Split the dataset\n",
    "X_train, X_test, y_train, y_test = train_test_split(processed_emails, labels, test_size=0.2, random_state=42)\n",
    "\n",
    "# Feature extraction using CountVectorizer\n",
    "vectorizer = CountVectorizer()\n",
    "X_train_vectorized = vectorizer.fit_transform(X_train)\n",
    "X_test_vectorized = vectorizer.transform(X_test)\n",
    "\n",
    "# Train Naive Bayes model\n",
    "model = MultinomialNB()\n",
    "model.fit(X_train_vectorized, y_train)\n",
    "\n",
    "# Make predictions\n",
    "predictions = model.predict(X_test_vectorized)\n",
    "\n",
    "# Evaluate the model\n",
    "accuracy = accuracy_score(y_test, predictions)\n",
    "conf_matrix = confusion_matrix(y_test, predictions)\n",
    "classification_rep = classification_report(y_test, predictions)\n",
    "\n",
    "print(f\"Accuracy: {accuracy}\")\n",
    "print(f\"Confusion Matrix:\\n{conf_matrix}\")\n",
    "print(f\"Classification Report:\\n{classification_rep}\")"
   ]
  },
  {
   "cell_type": "code",
   "execution_count": null,
   "id": "c7b03651",
   "metadata": {},
   "outputs": [],
   "source": []
  }
 ],
 "metadata": {
  "kernelspec": {
   "display_name": "Python 3 (ipykernel)",
   "language": "python",
   "name": "python3"
  },
  "language_info": {
   "codemirror_mode": {
    "name": "ipython",
    "version": 3
   },
   "file_extension": ".py",
   "mimetype": "text/x-python",
   "name": "python",
   "nbconvert_exporter": "python",
   "pygments_lexer": "ipython3",
   "version": "3.9.13"
  }
 },
 "nbformat": 4,
 "nbformat_minor": 5
}
